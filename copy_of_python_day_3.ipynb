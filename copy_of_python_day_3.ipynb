{
  "cells": [
    {
      "cell_type": "markdown",
      "metadata": {
        "id": "view-in-github",
        "colab_type": "text"
      },
      "source": [
        "<a href=\"https://colab.research.google.com/github/ashwini023/INTERNSOFTCODEFILE/blob/main/copy_of_python_day_3.ipynb\" target=\"_parent\"><img src=\"https://colab.research.google.com/assets/colab-badge.svg\" alt=\"Open In Colab\"/></a>"
      ]
    },
    {
      "cell_type": "markdown",
      "metadata": {
        "id": "2S_wsnyDKyUu"
      },
      "source": [
        "# In this session, we are going to explore other container objects and functions\n",
        "\n",
        "## In this session, we are going to learn the following key topics:\n",
        "*   Tuple\n",
        "*   Set\n",
        "*   Dictionary\n",
        "*   Function\n",
        "*   Lambda\n",
        "*   Iterator\n",
        "*   Generator\n",
        "*   Map\n",
        "*   Reduce\n",
        "*   Filter"
      ]
    },
    {
      "cell_type": "markdown",
      "metadata": {
        "id": "N_Ik_O8WKyVB"
      },
      "source": [
        "# Tuples\n",
        "\n",
        "In Python, tuples are similar to lists but they are immutable i.e. they cannot be changed. You would use the tuples to present data that shouldn't be changed, such as days of week or dates on  a calendar.\n",
        "\n",
        "In this section, we will get a brief overview of the following key topics:\n",
        "\n",
        "    1.) Constructing Tuples\n",
        "    2.) Basic Tuple Methods\n",
        "    3.) Immutability\n",
        "    4.) When to Use Tuples\n",
        "\n",
        "You'll have an intuition of how to use tuples based on what you've learned about lists. But, Tuples work very similar to lists but the  major difference is tuples are immutable.\n",
        "\n",
        "## Constructing Tuples\n",
        "\n",
        "The construction of tuples use () with elements separated by commas where in the arguments will be passed within brackets. For example:"
      ]
    },
    {
      "cell_type": "code",
      "execution_count": null,
      "metadata": {
        "id": "9tk0tFxlKyVE"
      },
      "outputs": [],
      "source": [
        "# Can create a tuple with mixed types\n",
        "t=(1,2,3,4)"
      ]
    },
    {
      "cell_type": "code",
      "execution_count": null,
      "metadata": {
        "id": "dHpKqPa4KyVJ",
        "outputId": "0dec773d-7989-4215-9e6a-c435a97149e0",
        "colab": {
          "base_uri": "https://localhost:8080/"
        }
      },
      "outputs": [
        {
          "output_type": "execute_result",
          "data": {
            "text/plain": [
              "4"
            ]
          },
          "metadata": {},
          "execution_count": 12
        }
      ],
      "source": [
        "# Check len just like a list\n",
        "len(t)"
      ]
    },
    {
      "cell_type": "code",
      "execution_count": null,
      "metadata": {
        "id": "_b6XSRLoKyVL",
        "outputId": "6a7a2078-dcbe-439b-9f63-1bf880389186",
        "colab": {
          "base_uri": "https://localhost:8080/"
        }
      },
      "outputs": [
        {
          "output_type": "execute_result",
          "data": {
            "text/plain": [
              "(1, 'wow', 0.1, 3, 4)"
            ]
          },
          "metadata": {},
          "execution_count": 13
        }
      ],
      "source": [
        "# Can also mix object types\n",
        "t=(1,\"wow\",0.1,3,4)\n",
        "# Show\n",
        "t"
      ]
    },
    {
      "cell_type": "code",
      "execution_count": null,
      "metadata": {
        "id": "-r4qK-9sKyVN",
        "outputId": "4492f3b6-f5ed-4d04-cc5f-9b62bd2dcf4d",
        "colab": {
          "base_uri": "https://localhost:8080/"
        }
      },
      "outputs": [
        {
          "output_type": "execute_result",
          "data": {
            "text/plain": [
              "0.1"
            ]
          },
          "metadata": {},
          "execution_count": 14
        }
      ],
      "source": [
        "# Use indexing just like we did in lists\n",
        "t[2]"
      ]
    },
    {
      "cell_type": "code",
      "execution_count": null,
      "metadata": {
        "id": "ymTV8fOtKyVP",
        "outputId": "f8deb38b-160d-47bf-ee9e-3c95b04c916e",
        "colab": {
          "base_uri": "https://localhost:8080/"
        }
      },
      "outputs": [
        {
          "output_type": "execute_result",
          "data": {
            "text/plain": [
              "3"
            ]
          },
          "metadata": {},
          "execution_count": 16
        }
      ],
      "source": [
        "# Slicing just like a list\n",
        "t[-2]"
      ]
    },
    {
      "cell_type": "markdown",
      "metadata": {
        "id": "5zZ7Ggq_KyVS"
      },
      "source": [
        "## Basic Tuple Methods\n",
        "\n",
        "Tuples have built-in methods, but not as many as lists do. Let's see two samples of tuple built-in methods:"
      ]
    },
    {
      "cell_type": "code",
      "execution_count": null,
      "metadata": {
        "id": "5WbSq1m5KyVU",
        "outputId": "06e83b59-87c0-430f-fcb2-747ef53c0a33",
        "colab": {
          "base_uri": "https://localhost:8080/"
        }
      },
      "outputs": [
        {
          "output_type": "execute_result",
          "data": {
            "text/plain": [
              "1"
            ]
          },
          "metadata": {},
          "execution_count": 17
        }
      ],
      "source": [
        "# Use .index to enter a value and return the index\n",
        "t.index(\"wow\")"
      ]
    },
    {
      "cell_type": "code",
      "execution_count": null,
      "metadata": {
        "id": "kGKhVhndKyVW",
        "outputId": "59a088bb-d9f9-4312-bfa9-f68e35eab55b",
        "colab": {
          "base_uri": "https://localhost:8080/"
        }
      },
      "outputs": [
        {
          "output_type": "execute_result",
          "data": {
            "text/plain": [
              "1"
            ]
          },
          "metadata": {},
          "execution_count": 18
        }
      ],
      "source": [
        "# Use .count to count the number of times a value appears\n",
        "t.count(\"wow\")"
      ]
    },
    {
      "cell_type": "markdown",
      "metadata": {
        "id": "JB2X26eFKyVZ"
      },
      "source": [
        "## Immutability\n",
        "\n",
        "As tuples are immutable, it can't be stressed enough and add more into it. To drive that point home:"
      ]
    },
    {
      "cell_type": "code",
      "execution_count": null,
      "metadata": {
        "id": "W4pI9tDpKyVa",
        "outputId": "592b9914-7002-423a-bd25-c221f3545570",
        "colab": {
          "base_uri": "https://localhost:8080/",
          "height": 181
        }
      },
      "outputs": [
        {
          "output_type": "error",
          "ename": "TypeError",
          "evalue": "ignored",
          "traceback": [
            "\u001b[0;31m---------------------------------------------------------------------------\u001b[0m",
            "\u001b[0;31mTypeError\u001b[0m                                 Traceback (most recent call last)",
            "\u001b[0;32m<ipython-input-19-49bfd20e99ca>\u001b[0m in \u001b[0;36m<cell line: 1>\u001b[0;34m()\u001b[0m\n\u001b[0;32m----> 1\u001b[0;31m \u001b[0mt\u001b[0m\u001b[0;34m[\u001b[0m\u001b[0;36m0\u001b[0m\u001b[0;34m]\u001b[0m\u001b[0;34m=\u001b[0m\u001b[0;36m20\u001b[0m\u001b[0;34m\u001b[0m\u001b[0;34m\u001b[0m\u001b[0m\n\u001b[0m",
            "\u001b[0;31mTypeError\u001b[0m: 'tuple' object does not support item assignment"
          ]
        }
      ],
      "source": [
        "t[0]=20"
      ]
    },
    {
      "cell_type": "markdown",
      "metadata": {
        "id": "i63tybplKyVb"
      },
      "source": [
        "Because tuple being immutable they can't grow. Once a tuple is made we can not add to it."
      ]
    },
    {
      "cell_type": "code",
      "execution_count": null,
      "metadata": {
        "id": "72fX6ameKyVc",
        "outputId": "3456884a-7dce-4026-9065-67effbb88cc1",
        "colab": {
          "base_uri": "https://localhost:8080/",
          "height": 181
        }
      },
      "outputs": [
        {
          "output_type": "error",
          "ename": "AttributeError",
          "evalue": "ignored",
          "traceback": [
            "\u001b[0;31m---------------------------------------------------------------------------\u001b[0m",
            "\u001b[0;31mAttributeError\u001b[0m                            Traceback (most recent call last)",
            "\u001b[0;32m<ipython-input-20-2b474cd73f5a>\u001b[0m in \u001b[0;36m<cell line: 1>\u001b[0;34m()\u001b[0m\n\u001b[0;32m----> 1\u001b[0;31m \u001b[0mt\u001b[0m\u001b[0;34m.\u001b[0m\u001b[0mappend\u001b[0m\u001b[0;34m(\u001b[0m\u001b[0;34m\"great\"\u001b[0m\u001b[0;34m)\u001b[0m\u001b[0;34m\u001b[0m\u001b[0;34m\u001b[0m\u001b[0m\n\u001b[0m",
            "\u001b[0;31mAttributeError\u001b[0m: 'tuple' object has no attribute 'append'"
          ]
        }
      ],
      "source": [
        "t.append(\"great\")"
      ]
    },
    {
      "cell_type": "markdown",
      "metadata": {
        "id": "jqv6eycQKyVd"
      },
      "source": [
        "## When to use Tuples\n",
        "\n",
        "You may be wondering, \"Why to bother using tuples when they have a few available methods?\"\n",
        "\n",
        "Tuples are not used often as lists in programming but are used when immutability is necessary. While you are passing around an object and if you need to make sure that it does not get changed then tuple become your solution. It provides a convenient source of data integrity.\n",
        "\n",
        "You should now be able to create and use tuples in your programming as well as have a complete understanding of their immutability."
      ]
    },
    {
      "cell_type": "markdown",
      "metadata": {
        "id": "6w3kp1qNKyVe"
      },
      "source": [
        "# Sets\n",
        "\n",
        "Sets are an unordered collection of *unique* elements which can be constructed using the set() function.\n",
        "\n",
        "Let's go ahead and create a set to see how it works."
      ]
    },
    {
      "cell_type": "code",
      "execution_count": null,
      "metadata": {
        "id": "ZFxiZY1iKyVf"
      },
      "outputs": [],
      "source": [
        "s=set()"
      ]
    },
    {
      "cell_type": "code",
      "execution_count": null,
      "metadata": {
        "id": "O6RZIM9pKyVg"
      },
      "outputs": [],
      "source": [
        "# We add to sets with the add() method\n",
        "s.add(1)"
      ]
    },
    {
      "cell_type": "code",
      "execution_count": null,
      "metadata": {
        "id": "IElQ1kQuKyVh",
        "outputId": "8c849bff-e359-4bcb-88fc-ba4d3736e64b",
        "colab": {
          "base_uri": "https://localhost:8080/"
        }
      },
      "outputs": [
        {
          "output_type": "execute_result",
          "data": {
            "text/plain": [
              "{1}"
            ]
          },
          "metadata": {},
          "execution_count": 25
        }
      ],
      "source": [
        "#Show\n",
        "s"
      ]
    },
    {
      "cell_type": "markdown",
      "metadata": {
        "id": "_q4RrWX6KyVi"
      },
      "source": [
        "Note that the curly brackets do not indicate a dictionary! Using only keys, you can draw analogies as a set being a dictionary.\n",
        "\n",
        "We know that a set has an only unique entry. Now, let us see what happens when we try to add something more that is already present in a set?"
      ]
    },
    {
      "cell_type": "code",
      "execution_count": null,
      "metadata": {
        "id": "9MOmZeTYKyVj"
      },
      "outputs": [],
      "source": [
        "# Add a different element\n",
        "s.add(5)"
      ]
    },
    {
      "cell_type": "code",
      "execution_count": null,
      "metadata": {
        "id": "_2CtZaDBKyVk",
        "outputId": "4d1032d7-f9ec-4913-e242-af5a8594cbbe",
        "colab": {
          "base_uri": "https://localhost:8080/"
        }
      },
      "outputs": [
        {
          "output_type": "execute_result",
          "data": {
            "text/plain": [
              "{1, 5}"
            ]
          },
          "metadata": {},
          "execution_count": 28
        }
      ],
      "source": [
        "#Show\n",
        "s"
      ]
    },
    {
      "cell_type": "code",
      "execution_count": null,
      "metadata": {
        "id": "X2pw4F6MKyVl"
      },
      "outputs": [],
      "source": [
        "# Try to add the same element\n",
        "s.add(5)"
      ]
    },
    {
      "cell_type": "code",
      "execution_count": null,
      "metadata": {
        "id": "3G1ua8omKyVl",
        "outputId": "737498dc-37d4-49eb-fb6b-bf2801e8c6d5",
        "colab": {
          "base_uri": "https://localhost:8080/"
        }
      },
      "outputs": [
        {
          "output_type": "execute_result",
          "data": {
            "text/plain": [
              "{1, 5}"
            ]
          },
          "metadata": {},
          "execution_count": 30
        }
      ],
      "source": [
        "#Show\n",
        "s"
      ]
    },
    {
      "cell_type": "markdown",
      "metadata": {
        "id": "Dqi_1FVYKyVm"
      },
      "source": [
        "Notice, how it won't place another 1 there as a set is only concerned with unique elements! However, We can cast a list with multiple repeat elements to a set to get the unique elements. For example:"
      ]
    },
    {
      "cell_type": "code",
      "execution_count": null,
      "metadata": {
        "id": "P7i4wZxfKyVm"
      },
      "outputs": [],
      "source": [
        "# Create a list with repeats\n",
        "s1=[1,2,4,1,2,3,1,2,3,4]"
      ]
    },
    {
      "cell_type": "code",
      "execution_count": null,
      "metadata": {
        "id": "gQRNgkxeKyVn",
        "outputId": "06eb9a93-cd73-495e-abe3-7d230ff8d943",
        "colab": {
          "base_uri": "https://localhost:8080/"
        }
      },
      "outputs": [
        {
          "output_type": "execute_result",
          "data": {
            "text/plain": [
              "{1, 2, 3, 4}"
            ]
          },
          "metadata": {},
          "execution_count": 35
        }
      ],
      "source": [
        "# Cast as set to get unique values\n",
        "set(s1)"
      ]
    },
    {
      "cell_type": "markdown",
      "metadata": {
        "id": "1YP1o25wKyVo"
      },
      "source": [
        "# Dictionaries\n",
        "\n",
        "We have learned about \"Sequences\" in the previous session. Now, let's switch the gears and learn about \"mappings\" in Python. These dictionaries are nothing but hash tables in other programming languages.\n",
        "\n",
        "In this section, we will learn briefly about an introduction to dictionaries and what it consists of:\n",
        "\n",
        "    1.) Constructing a Dictionary\n",
        "    2.) Accessing objects from a Dictionary\n",
        "    3.) Nesting Dictionaries\n",
        "    4.) Basic Dictionary Methods\n",
        "\n",
        "Before we dive deep into this concept, let's understand what are Mappings?\n",
        "\n",
        "Mappings are a collection of objects that are stored by a \"key\". Unlike a sequence, mapping store objects by their relative position. This is an important distinction since mappings won't retain the order since they have objects defined by a key.\n",
        "\n",
        "A Python dictionary consists of a key and then an associated value. That value can be almost any Python object.\n",
        "\n",
        "\n",
        "## Constructing a Dictionary\n",
        "Let's see how we can construct dictionaries to get a better understanding of how they work!"
      ]
    },
    {
      "cell_type": "code",
      "execution_count": null,
      "metadata": {
        "id": "D1UQ6_eZKyVo"
      },
      "outputs": [],
      "source": [
        "# Make a dictionary with {} and : to signify a key and a value\n",
        "d={'k':'v','k1':'v1'}"
      ]
    },
    {
      "cell_type": "code",
      "execution_count": null,
      "metadata": {
        "id": "K7gmoiIuKyVp",
        "colab": {
          "base_uri": "https://localhost:8080/",
          "height": 36
        },
        "outputId": "14968ef1-b6a8-4c17-adf1-ca73afbf5896"
      },
      "outputs": [
        {
          "output_type": "execute_result",
          "data": {
            "text/plain": [
              "'v1'"
            ],
            "application/vnd.google.colaboratory.intrinsic+json": {
              "type": "string"
            }
          },
          "metadata": {},
          "execution_count": 9
        }
      ],
      "source": [
        "# Call values by their key\n",
        "d['k1']"
      ]
    },
    {
      "cell_type": "markdown",
      "metadata": {
        "id": "nkGalo9KKyVp"
      },
      "source": [
        "Note that dictionaries are very flexible in the data types they can hold. For example:"
      ]
    },
    {
      "cell_type": "code",
      "execution_count": null,
      "metadata": {
        "id": "dvt0PSWBKyVq"
      },
      "outputs": [],
      "source": [
        "d={'k1':123,'k2':[1,2,3],'k3':['wow','great']}"
      ]
    },
    {
      "cell_type": "code",
      "execution_count": null,
      "metadata": {
        "id": "vJh8YqCeKyVq",
        "colab": {
          "base_uri": "https://localhost:8080/"
        },
        "outputId": "a87227fa-bc12-4e99-f686-1f0025242c4b"
      },
      "outputs": [
        {
          "output_type": "execute_result",
          "data": {
            "text/plain": [
              "dict_items([('k1', 123), ('k2', [1, 2, 3]), ('k3', ['wow', 'great'])])"
            ]
          },
          "metadata": {},
          "execution_count": 11
        }
      ],
      "source": [
        "#Let's call items from the dictionary\n",
        "d.items()"
      ]
    },
    {
      "cell_type": "code",
      "execution_count": null,
      "metadata": {
        "id": "Sc_hZfd1KyVr",
        "colab": {
          "base_uri": "https://localhost:8080/"
        },
        "outputId": "80ef0721-975e-4f18-f803-93d0ee3e7e78"
      },
      "outputs": [
        {
          "output_type": "execute_result",
          "data": {
            "text/plain": [
              "2"
            ]
          },
          "metadata": {},
          "execution_count": 15
        }
      ],
      "source": [
        "# Can call an index on that value\n",
        "d['k2'][1]"
      ]
    },
    {
      "cell_type": "code",
      "execution_count": null,
      "metadata": {
        "id": "2jkiQkxxKyVr",
        "colab": {
          "base_uri": "https://localhost:8080/"
        },
        "outputId": "37b5c058-7910-480f-ead5-1454fe0747f8"
      },
      "outputs": [
        {
          "output_type": "execute_result",
          "data": {
            "text/plain": [
              "123"
            ]
          },
          "metadata": {},
          "execution_count": 17
        }
      ],
      "source": [
        "#Can then even call methods on that value\n",
        "d['k1']"
      ]
    },
    {
      "cell_type": "markdown",
      "metadata": {
        "id": "MlWBfAsVKyVw"
      },
      "source": [
        "We can effect the values of a key as well. For instance:"
      ]
    },
    {
      "cell_type": "code",
      "execution_count": null,
      "metadata": {
        "id": "2Co0RH4KKyVx"
      },
      "outputs": [],
      "source": [
        "d={'k1':123}"
      ]
    },
    {
      "cell_type": "code",
      "execution_count": null,
      "metadata": {
        "id": "GRYHNWI1KyVy"
      },
      "outputs": [],
      "source": [
        "# Subtract 123 from the value\n",
        "d['k1']=d['k1']-123"
      ]
    },
    {
      "cell_type": "code",
      "execution_count": null,
      "metadata": {
        "id": "xMyz-VZIKyVz",
        "colab": {
          "base_uri": "https://localhost:8080/"
        },
        "outputId": "82986fc1-683d-4211-c14b-5b43cf44cbe8"
      },
      "outputs": [
        {
          "output_type": "execute_result",
          "data": {
            "text/plain": [
              "0"
            ]
          },
          "metadata": {},
          "execution_count": 22
        }
      ],
      "source": [
        "#Check\n",
        "d['k1']"
      ]
    },
    {
      "cell_type": "markdown",
      "metadata": {
        "id": "Rm5-WFMFKyV3"
      },
      "source": [
        "\\Note, Python has a built-in method of doing a self subtraction or addition (or multiplication or division). We could also use += or -= for the above statement. For example:"
      ]
    },
    {
      "cell_type": "code",
      "execution_count": null,
      "metadata": {
        "id": "gqcCkFDVKyV3"
      },
      "outputs": [],
      "source": [
        "# Set the object equal to itself minus 123\n",
        "d['k1']-=123"
      ]
    },
    {
      "cell_type": "markdown",
      "metadata": {
        "id": "hekZItshKyV4"
      },
      "source": [
        "We can also create keys by assignment. For instance if we started off with an empty dictionary, we could continually add to it:"
      ]
    },
    {
      "cell_type": "code",
      "execution_count": null,
      "metadata": {
        "id": "EGowTBSnKyV5"
      },
      "outputs": [],
      "source": [
        "# Create a new dictionary\n",
        "d={}"
      ]
    },
    {
      "cell_type": "code",
      "execution_count": null,
      "metadata": {
        "id": "B01V4jp4KyV5"
      },
      "outputs": [],
      "source": [
        "# Create a new key through assignment\n",
        "d['wow']='fab'"
      ]
    },
    {
      "cell_type": "code",
      "execution_count": null,
      "metadata": {
        "id": "XMLTcj4xKyV6"
      },
      "outputs": [],
      "source": [
        "# Can do this with any object\n",
        "d['cost']:10"
      ]
    },
    {
      "cell_type": "code",
      "execution_count": null,
      "metadata": {
        "id": "UHKDTOF2KyV6",
        "colab": {
          "base_uri": "https://localhost:8080/"
        },
        "outputId": "13e93439-6e31-4915-b6ac-963a32800664"
      },
      "outputs": [
        {
          "output_type": "execute_result",
          "data": {
            "text/plain": [
              "{'wow': 'fab'}"
            ]
          },
          "metadata": {},
          "execution_count": 28
        }
      ],
      "source": [
        "#Show\n",
        "d"
      ]
    },
    {
      "cell_type": "markdown",
      "metadata": {
        "id": "TV_-gifDKyV7"
      },
      "source": [
        "## Nesting with Dictionaries\n",
        "\n",
        "Let's understand how flexible Python is with nesting objects and calling methods on them. let's have a look at the dictionary nested inside a dictionary:"
      ]
    },
    {
      "cell_type": "code",
      "execution_count": null,
      "metadata": {
        "id": "FEvNirxKKyV8"
      },
      "outputs": [],
      "source": [
        "# Dictionary nested inside a dictionary nested in side a dictionary\n",
        "d={'k1':{'k2':{'k3':'value'}}}"
      ]
    },
    {
      "cell_type": "markdown",
      "metadata": {
        "id": "Rr6PJIL6KyV9"
      },
      "source": [
        "Thats the inception of dictionaries. Now, Let's see how we can grab that value:"
      ]
    },
    {
      "cell_type": "code",
      "execution_count": null,
      "metadata": {
        "id": "sdHJZtSsKyV-",
        "colab": {
          "base_uri": "https://localhost:8080/",
          "height": 36
        },
        "outputId": "24783837-d511-42b6-f8f8-4be5152eecad"
      },
      "outputs": [
        {
          "output_type": "execute_result",
          "data": {
            "text/plain": [
              "'value'"
            ],
            "application/vnd.google.colaboratory.intrinsic+json": {
              "type": "string"
            }
          },
          "metadata": {},
          "execution_count": 30
        }
      ],
      "source": [
        "# Keep calling the keys\n",
        "d['k1']['k2']['k3']"
      ]
    },
    {
      "cell_type": "code",
      "source": [
        "d['k1']"
      ],
      "metadata": {
        "colab": {
          "base_uri": "https://localhost:8080/"
        },
        "id": "5OV1R1IrrDwg",
        "outputId": "c42f7e0b-3393-43b5-a4e0-41438053cd73"
      },
      "execution_count": null,
      "outputs": [
        {
          "output_type": "execute_result",
          "data": {
            "text/plain": [
              "{'k2': {'k3': 'value'}}"
            ]
          },
          "metadata": {},
          "execution_count": 31
        }
      ]
    },
    {
      "cell_type": "markdown",
      "metadata": {
        "id": "4-yAFpQ8KyWA"
      },
      "source": [
        "## A few Dictionary Methods\n",
        "\n",
        "There are a few methods we can call on a dictionary. Let's get a quick introduction to a few methods:"
      ]
    },
    {
      "cell_type": "code",
      "execution_count": null,
      "metadata": {
        "id": "thl8eKS0KyWB"
      },
      "outputs": [],
      "source": [
        "# Create a typical dictionary\n",
        "d={'k1':123,'k2':[1,2,3],'k3':['wow','great']}"
      ]
    },
    {
      "cell_type": "code",
      "execution_count": null,
      "metadata": {
        "id": "Ce2t2k_fKyWC",
        "colab": {
          "base_uri": "https://localhost:8080/"
        },
        "outputId": "77cd9384-bd42-464a-c021-1edc3c559e33"
      },
      "outputs": [
        {
          "output_type": "execute_result",
          "data": {
            "text/plain": [
              "dict_keys(['k1', 'k2', 'k3'])"
            ]
          },
          "metadata": {},
          "execution_count": 34
        }
      ],
      "source": [
        "# Method to return a list of all keys\n",
        "d.keys()"
      ]
    },
    {
      "cell_type": "code",
      "execution_count": null,
      "metadata": {
        "id": "u9YT4Si-KyWD",
        "colab": {
          "base_uri": "https://localhost:8080/"
        },
        "outputId": "c58cc738-ab16-40ac-e97c-aaa5d7b66e0f"
      },
      "outputs": [
        {
          "output_type": "execute_result",
          "data": {
            "text/plain": [
              "dict_values([123, [1, 2, 3], ['wow', 'great']])"
            ]
          },
          "metadata": {},
          "execution_count": 35
        }
      ],
      "source": [
        "# Method to grab all values\n",
        "d.values()"
      ]
    },
    {
      "cell_type": "code",
      "execution_count": null,
      "metadata": {
        "id": "btgLGQFBKyWE",
        "colab": {
          "base_uri": "https://localhost:8080/"
        },
        "outputId": "de8209e0-0b9f-45d6-d7f4-e01887c70d28"
      },
      "outputs": [
        {
          "output_type": "execute_result",
          "data": {
            "text/plain": [
              "dict_items([('k1', 123), ('k2', [1, 2, 3]), ('k3', ['wow', 'great'])])"
            ]
          },
          "metadata": {},
          "execution_count": 36
        }
      ],
      "source": [
        "# Method to return tuples of all items  (we'll learn about tuples soon)\n",
        "d.items()"
      ]
    },
    {
      "cell_type": "markdown",
      "metadata": {
        "id": "X8kkj4yGKyWE"
      },
      "source": []
    },
    {
      "cell_type": "markdown",
      "metadata": {
        "id": "aGCsUI4xKyWF"
      },
      "source": [
        "## Dictionary Comprehensions\n",
        "\n",
        "Just like List Comprehensions, Dictionary Data Types also support their own version of comprehension for quick creation. It is not as commonly used as List Comprehensions, but the syntax is:"
      ]
    },
    {
      "cell_type": "code",
      "execution_count": null,
      "metadata": {
        "id": "NmGe8H4-KyWF"
      },
      "outputs": [],
      "source": [
        "q={}"
      ]
    },
    {
      "cell_type": "code",
      "execution_count": null,
      "metadata": {
        "id": "XGVqFbg0KyWG",
        "colab": {
          "base_uri": "https://localhost:8080/"
        },
        "outputId": "bdf4c279-c4f6-41e8-b78e-f56155c95547"
      },
      "outputs": [
        {
          "output_type": "execute_result",
          "data": {
            "text/plain": [
              "{0: 0, 1: 2, 2: 4, 3: 6, 4: 8, 5: 10, 6: 12, 7: 14, 8: 16, 9: 18, 10: 20}"
            ]
          },
          "metadata": {},
          "execution_count": 45
        }
      ],
      "source": [
        "{q:q*2 for q in range(11)}"
      ]
    },
    {
      "cell_type": "markdown",
      "metadata": {
        "id": "1GPsUiAKKyWG"
      },
      "source": [
        "One of the reasons is the difficulty in structuring the key names that are not based on the values."
      ]
    },
    {
      "cell_type": "markdown",
      "metadata": {
        "id": "asM2f4nKKyWH"
      },
      "source": [
        "# Functions\n",
        "\n",
        "## Introduction to Functions\n",
        "\n",
        "What is a function in Python and how to create a function?\n",
        "\n",
        "Functions will be one of our main building blocks when we construct larger and larger amount of code to solve problems.\n",
        "\n",
        "**So what is a function?**\n",
        "\n",
        "A function groups a set of statements together to run the statements more than once. It allows us to specify parameters that can serve as inputs to the functions.\n",
        "\n",
        "Functions allow us to reuse the code instead of writing the code again and again. If you recall strings and lists, remember that len() function is used to find the length of a string. Since checking the length of a sequence is a common task, you would want to write a function that can do this repeatedly at command.\n",
        "\n",
        "Function is one of the most basic levels of reusing code in Python, and it will also allow us to start thinking of program design."
      ]
    },
    {
      "cell_type": "markdown",
      "metadata": {
        "id": "bv6r1ts4KyWI"
      },
      "source": [
        "## def Statements\n",
        "\n",
        "Now, let us learn how to build a function and what is the syntax in Python.\n",
        "\n",
        "The syntax for def statements will be in the following form:"
      ]
    },
    {
      "cell_type": "code",
      "execution_count": null,
      "metadata": {
        "id": "1g-pbt4bKyWI"
      },
      "outputs": [],
      "source": [
        "def function(ar1,ar2):\n",
        "  ar1='good'\n",
        "  ar1='day'\n"
      ]
    },
    {
      "cell_type": "markdown",
      "metadata": {
        "id": "GH2LReWQKyWJ"
      },
      "source": [
        "We begin with def then a space followed by the name of the function. Try to keep names relevant and simple as possible, for example, len() is a good name for a length() function. Also be careful with names, you wouldn't want to call a function the same name as a [built-in function in Python](https://docs.python.org/2/library/functions.html) (such as len).\n",
        "\n",
        "Next, comes the number of arguments separated by a comma within a pair of parenthesis which acts as input to the defined function,  reference them and the function definition with a colon.  \n",
        "\n",
        "Here comes the important step to indent to begin the code inside the defined functions properly. Also remember, Python makes use of *whitespace* to organize code and lot of other programming languages do not do this.\n",
        "\n",
        "Next, you'll see the doc-string where you write the basic description of the function. Using iPython and iPython Notebooks, you'll be able to read these doc-strings by pressing Shift+Tab after a function name. It is not mandatory to include docstrings with simple functions, but it is a good practice to put them as this will help the programmers to easily understand the code you write.\n",
        "\n",
        "After all this, you can begin writing the code you wish to execute.\n",
        "\n",
        "The best way to learn functions is by going through examples. So let's try to analyze and understand examples that relate back to the various objects and data structures we learned."
      ]
    },
    {
      "cell_type": "markdown",
      "metadata": {
        "id": "OuSPXygiKyWK"
      },
      "source": [
        "### Example 1: A simple print 'hello' function"
      ]
    },
    {
      "cell_type": "code",
      "execution_count": null,
      "metadata": {
        "id": "dODsL8yKKyWK"
      },
      "outputs": [],
      "source": [
        "def print_here():\n",
        "  print(\"hello\")"
      ]
    },
    {
      "cell_type": "markdown",
      "metadata": {
        "id": "OdOwIkjuKyWL"
      },
      "source": [
        "Call the function"
      ]
    },
    {
      "cell_type": "code",
      "execution_count": null,
      "metadata": {
        "id": "1tsnyhd0KyWL",
        "colab": {
          "base_uri": "https://localhost:8080/"
        },
        "outputId": "8eb565c5-a748-4f94-d260-be591f2dd942"
      },
      "outputs": [
        {
          "output_type": "stream",
          "name": "stdout",
          "text": [
            "hello\n"
          ]
        }
      ],
      "source": [
        "print_here()"
      ]
    },
    {
      "cell_type": "markdown",
      "metadata": {
        "id": "-ty5DDJ2KyWM"
      },
      "source": [
        "### Example 2: A simple greeting function\n",
        "Let's write a function that greets people with their name."
      ]
    },
    {
      "cell_type": "code",
      "execution_count": null,
      "metadata": {
        "id": "awXNpfSAKyWN"
      },
      "outputs": [],
      "source": [
        "def greet(name):\n",
        "  print(\"hello\",name)"
      ]
    },
    {
      "cell_type": "code",
      "execution_count": null,
      "metadata": {
        "id": "hhM1D_pMKyWO",
        "colab": {
          "base_uri": "https://localhost:8080/"
        },
        "outputId": "badd9812-f9a4-405f-ff07-7c899c816fb5"
      },
      "outputs": [
        {
          "output_type": "stream",
          "name": "stdout",
          "text": [
            "hello ashu\n"
          ]
        }
      ],
      "source": [
        "greet(\"ashu\")"
      ]
    },
    {
      "cell_type": "markdown",
      "metadata": {
        "id": "awAdLHggKyWP"
      },
      "source": [
        "## Using return\n",
        "Let's see some examples that use a return statement. Return allows a function to \"return\" a result that can then be stored as a variable, or used in whatever manner a user wants.\n",
        "\n",
        "### Example 3: Addition function"
      ]
    },
    {
      "cell_type": "code",
      "execution_count": null,
      "metadata": {
        "id": "KoZ_g1DwKyWP"
      },
      "outputs": [],
      "source": [
        "def add_func(num1,num2):\n",
        "  return num1+num2"
      ]
    },
    {
      "cell_type": "code",
      "execution_count": null,
      "metadata": {
        "id": "3f-ZUZVRKyWQ",
        "colab": {
          "base_uri": "https://localhost:8080/"
        },
        "outputId": "4940713e-ccd0-467e-ad9d-a9e2e02fc349"
      },
      "outputs": [
        {
          "output_type": "execute_result",
          "data": {
            "text/plain": [
              "9"
            ]
          },
          "metadata": {},
          "execution_count": 2
        }
      ],
      "source": [
        "add_func(4,5)"
      ]
    },
    {
      "cell_type": "code",
      "execution_count": null,
      "metadata": {
        "id": "AEXb7a4hKyWQ"
      },
      "outputs": [],
      "source": [
        "# Can also save as variable due to return\n",
        "result=add_func(2,3)"
      ]
    },
    {
      "cell_type": "code",
      "execution_count": null,
      "metadata": {
        "id": "omamnxrtKyWR",
        "colab": {
          "base_uri": "https://localhost:8080/"
        },
        "outputId": "6caafdaa-67cb-4776-afee-cdd16ef09953"
      },
      "outputs": [
        {
          "output_type": "execute_result",
          "data": {
            "text/plain": [
              "5"
            ]
          },
          "metadata": {},
          "execution_count": 4
        }
      ],
      "source": [
        "result"
      ]
    },
    {
      "cell_type": "markdown",
      "metadata": {
        "id": "X2WL6-HoKyWR"
      },
      "source": [
        "What happens if we input two strings?"
      ]
    },
    {
      "cell_type": "code",
      "execution_count": null,
      "metadata": {
        "id": "HVrxlSUNKyWS"
      },
      "outputs": [],
      "source": [
        "result=add_func('one','two')"
      ]
    },
    {
      "cell_type": "markdown",
      "metadata": {
        "id": "T0wgPqyoKyWT"
      },
      "source": [
        "In Python we don't declare variable types, this function could be used to add numbers or sequences together! Going forward, We'll learn about adding in checks to make sure a user puts in the correct arguments into a function.\n",
        "\n",
        "Let's also start using *break*,*continue*, and *pass* statements in our code. We introduced these during the while lecture."
      ]
    },
    {
      "cell_type": "markdown",
      "metadata": {
        "collapsed": true,
        "id": "eYOTVEEvKyWU"
      },
      "source": [
        "Now, let's see a complete example of creating a function to check if a number is prime (a common interview exercise).\n",
        "\n",
        "We know a number is said to be prime if that number is only divisible by 1 and itself. Let's write our first version of the function to check all the numbers from 1 to N and perform modulo checks."
      ]
    },
    {
      "cell_type": "code",
      "execution_count": null,
      "metadata": {
        "id": "BWNlhe08KyWV"
      },
      "outputs": [],
      "source": [
        "def is_prime(num):\n",
        "    for n in range(2,num):\n",
        "        if num % n ==0:\n",
        "            print(\"not prime\")\n",
        "            break\n",
        "    else:\n",
        "      print(\"prime\")\n"
      ]
    },
    {
      "cell_type": "code",
      "execution_count": null,
      "metadata": {
        "id": "B9emMJ4AKyWW",
        "colab": {
          "base_uri": "https://localhost:8080/"
        },
        "outputId": "0b1a79a8-51d7-42f7-806e-b5c3bfaea5b8"
      },
      "outputs": [
        {
          "output_type": "stream",
          "name": "stdout",
          "text": [
            "prime\n"
          ]
        }
      ],
      "source": [
        "is_prime(11)"
      ]
    },
    {
      "cell_type": "markdown",
      "metadata": {
        "id": "pp9CQ6p6KyWW"
      },
      "source": [
        "Note that how we break the code after the print statement! We can actually improve this by only checking to the square root of the target number, also we can disregard all even numbers after checking for 2. We'll also switch to returning a boolean value to get an example of using return statements:"
      ]
    },
    {
      "cell_type": "code",
      "execution_count": null,
      "metadata": {
        "id": "1uR3lAs1KyWX"
      },
      "outputs": [],
      "source": [
        "import math\n",
        "def is_prime(num):\n",
        "  if num % 2==0 and num>2:\n",
        "    return False\n",
        "  for n in range(3,int(math.sqrt(num))+1,2):\n",
        "    if num % n==0:\n",
        "      return True\n",
        "  return False"
      ]
    },
    {
      "cell_type": "code",
      "execution_count": null,
      "metadata": {
        "id": "U4fr1tm-KyWY",
        "colab": {
          "base_uri": "https://localhost:8080/"
        },
        "outputId": "1e3a10b5-383f-45c8-ee1f-670776057f42"
      },
      "outputs": [
        {
          "output_type": "execute_result",
          "data": {
            "text/plain": [
              "False"
            ]
          },
          "metadata": {},
          "execution_count": 40
        }
      ],
      "source": [
        "is_prime(11)"
      ]
    },
    {
      "cell_type": "code",
      "execution_count": null,
      "metadata": {
        "id": "CGuhfDhsKyWZ"
      },
      "outputs": [],
      "source": []
    },
    {
      "cell_type": "markdown",
      "metadata": {
        "id": "jwb4hASTKyWZ"
      },
      "source": [
        "# Iterators and Generators"
      ]
    },
    {
      "cell_type": "markdown",
      "metadata": {
        "id": "kMP12EGEKyWa"
      },
      "source": [
        "In this section, you will be learning the differences between iterations and generation in Python and also how to construct our own generators with the \"yield\" statement. Generators allow us to generate as we go along instead of storing everything in the memory.\n",
        "\n",
        "We have learned, how to create functions with \"def\" and the \"return\" statement. In Python, Generator function allow us to write a function that can send back a value and then later resume to pick up where it was left. It also allows us to generate a sequence of values over time. The main difference in syntax will be the use of a **yield** statement.\n",
        "\n",
        "In most aspects, a generator function will appear very similar to a normal function. The main difference is when a generator function is called and compiled they become an object that supports an iteration protocol. That means when they are called they don't actually return a value and then exit, the generator functions will automatically suspend and resume their execution and state around the last point of value generation.\n",
        "\n",
        "The main advantage here is \"state suspension\" which means, instead of computing an entire series of values upfront and the generator functions can be suspended. To understand this concept better let's go ahead and learn how to create some generator functions."
      ]
    },
    {
      "cell_type": "code",
      "execution_count": null,
      "metadata": {
        "id": "z_lWPWCtKyWb"
      },
      "outputs": [],
      "source": [
        "# Generator function for the cube of numbers (power of 3)\n",
        "def cube_s(num):\n",
        "  return num**3"
      ]
    },
    {
      "cell_type": "code",
      "execution_count": null,
      "metadata": {
        "scrolled": true,
        "id": "6z0tljU5KyWb",
        "colab": {
          "base_uri": "https://localhost:8080/"
        },
        "outputId": "101e9ad2-29ac-42e7-b34e-bb5edbb9beb3"
      },
      "outputs": [
        {
          "output_type": "execute_result",
          "data": {
            "text/plain": [
              "8"
            ]
          },
          "metadata": {},
          "execution_count": 42
        }
      ],
      "source": [
        "cube_s(2)"
      ]
    },
    {
      "cell_type": "markdown",
      "metadata": {
        "id": "JEKfjSvQKyWc"
      },
      "source": [
        "Great! since we have a generator function we don't have to keep track of every single cube we created.\n",
        "\n",
        "Generators are the best for calculating large sets of results (particularly in calculations that involve loops themselves) when we don't want to allocate memory for all of the results at the same time.\n",
        "\n",
        "Let's create another sample generator which calculates [fibonacci](https://en.wikipedia.org/wiki/Fibonacci_number) numbers:"
      ]
    },
    {
      "cell_type": "code",
      "execution_count": null,
      "metadata": {
        "id": "aeG7GjT4KyWc"
      },
      "outputs": [],
      "source": [
        "def f(num):\n",
        "  a=1\n",
        "  b=1\n",
        "  for i in range(num):\n",
        "    yield a\n",
        "    a,b=b,a+b\n"
      ]
    },
    {
      "cell_type": "code",
      "execution_count": null,
      "metadata": {
        "id": "8CMY0dErKyWd",
        "colab": {
          "base_uri": "https://localhost:8080/"
        },
        "outputId": "d73d8a9f-7a27-4827-bf72-50769b0d1716"
      },
      "outputs": [
        {
          "output_type": "stream",
          "name": "stdout",
          "text": [
            "1\n",
            "1\n",
            "2\n",
            "3\n",
            "5\n",
            "8\n",
            "13\n",
            "21\n",
            "34\n",
            "55\n"
          ]
        }
      ],
      "source": [
        "for i in f(10):\n",
        "  print(i)"
      ]
    },
    {
      "cell_type": "markdown",
      "metadata": {
        "id": "nzPBv1v8KyWe"
      },
      "source": [
        "What if this was a normal function, what would it look like?"
      ]
    },
    {
      "cell_type": "code",
      "execution_count": null,
      "metadata": {
        "id": "GY1W4U9vKyWf"
      },
      "outputs": [],
      "source": [
        "def f(n):\n",
        "  a=1\n",
        "  b=1\n",
        "  o=[]\n",
        "  for i in range(n):\n",
        "    o.append(a)\n",
        "    a,b=b,a+b\n",
        "  return o"
      ]
    },
    {
      "cell_type": "code",
      "execution_count": null,
      "metadata": {
        "id": "p1pw2V7VKyWg",
        "colab": {
          "base_uri": "https://localhost:8080/"
        },
        "outputId": "78d9a354-5525-43c6-8e3f-df676706fcb9"
      },
      "outputs": [
        {
          "output_type": "execute_result",
          "data": {
            "text/plain": [
              "[1, 1, 2, 3, 5, 8, 13, 21, 34, 55]"
            ]
          },
          "metadata": {},
          "execution_count": 11
        }
      ],
      "source": [
        "f(10)"
      ]
    },
    {
      "cell_type": "markdown",
      "metadata": {
        "id": "4H5mMHyZKyWh"
      },
      "source": [
        "Note, if we call some huge value of \"n\", the second function will have to keep track of every single result. In our case, we only care about the previous result to generate the next one.\n",
        "\n",
        "\n",
        "## next() and iter() built-in functions\n",
        "\n",
        "A key to fully understand generators is the next() and the iter() function.\n",
        "\n",
        "The next function allows us to access the next element in a sequence. Let's check how it works."
      ]
    },
    {
      "cell_type": "code",
      "execution_count": null,
      "metadata": {
        "id": "UnoABKvNKyWi"
      },
      "outputs": [],
      "source": [
        "def fun():\n",
        "  for i in range(3):\n",
        "    yield i\n"
      ]
    },
    {
      "cell_type": "code",
      "execution_count": null,
      "metadata": {
        "id": "R61SogV7KyWi"
      },
      "outputs": [],
      "source": [
        "a=fun()"
      ]
    },
    {
      "cell_type": "code",
      "execution_count": null,
      "metadata": {
        "id": "XsuGHq_AKyWj",
        "colab": {
          "base_uri": "https://localhost:8080/"
        },
        "outputId": "ee5c94d0-1468-46ec-dcfc-617705b45281"
      },
      "outputs": [
        {
          "output_type": "stream",
          "name": "stdout",
          "text": [
            "0\n"
          ]
        }
      ],
      "source": [
        "# Assign simple_gen\n",
        "print(next(a))"
      ]
    },
    {
      "cell_type": "code",
      "execution_count": null,
      "metadata": {
        "id": "EtVOMzzTKyWj",
        "colab": {
          "base_uri": "https://localhost:8080/"
        },
        "outputId": "99bdfebe-9c91-4c5a-fb46-c82fcac8e8ec"
      },
      "outputs": [
        {
          "output_type": "stream",
          "name": "stdout",
          "text": [
            "1\n"
          ]
        }
      ],
      "source": [
        "print(next(a))"
      ]
    },
    {
      "cell_type": "code",
      "execution_count": null,
      "metadata": {
        "id": "4YE7EMiXKyWk"
      },
      "outputs": [],
      "source": []
    },
    {
      "cell_type": "code",
      "execution_count": null,
      "metadata": {
        "id": "HnM7zAuRKyWk"
      },
      "outputs": [],
      "source": []
    },
    {
      "cell_type": "code",
      "execution_count": null,
      "metadata": {
        "id": "yu73AOm_KyWl"
      },
      "outputs": [],
      "source": []
    },
    {
      "cell_type": "markdown",
      "metadata": {
        "id": "Mrzo9NxZKyWl"
      },
      "source": [
        "After yielding all the values next() caused a StopIteration error. What this error informs us that all the values have been yielded.\n",
        "\n",
        "You might be wondering that why don’t we get this error while using a for loop? The \"for loop\" automatically catches this error and stops calling next.\n",
        "\n",
        "Let's go ahead and check out how to use iter(). You remember that strings are iterable:"
      ]
    },
    {
      "cell_type": "code",
      "execution_count": null,
      "metadata": {
        "id": "t9J4FMAmKyWm",
        "colab": {
          "base_uri": "https://localhost:8080/"
        },
        "outputId": "031ec401-0624-44f6-c2b6-d2b4f90c14c0"
      },
      "outputs": [
        {
          "output_type": "stream",
          "name": "stdout",
          "text": [
            "h\n",
            "e\n",
            "l\n",
            "l\n",
            "o\n"
          ]
        }
      ],
      "source": [
        "a='hello'\n",
        "#Iterate over string\n",
        "for i in a:\n",
        "  print(i)"
      ]
    },
    {
      "cell_type": "markdown",
      "metadata": {
        "id": "L9s7h1i8KyWn"
      },
      "source": [
        "But that doesn't mean the string itself is an *iterator*! We can check this with the next() function:"
      ]
    },
    {
      "cell_type": "code",
      "execution_count": null,
      "metadata": {
        "id": "3xtJT22FKyWo",
        "colab": {
          "base_uri": "https://localhost:8080/",
          "height": 181
        },
        "outputId": "a8f32f3a-cda0-42e3-8322-02a9db43da10"
      },
      "outputs": [
        {
          "output_type": "error",
          "ename": "TypeError",
          "evalue": "ignored",
          "traceback": [
            "\u001b[0;31m---------------------------------------------------------------------------\u001b[0m",
            "\u001b[0;31mTypeError\u001b[0m                                 Traceback (most recent call last)",
            "\u001b[0;32m<ipython-input-19-a883b34d6d8a>\u001b[0m in \u001b[0;36m<cell line: 1>\u001b[0;34m()\u001b[0m\n\u001b[0;32m----> 1\u001b[0;31m \u001b[0mnext\u001b[0m\u001b[0;34m(\u001b[0m\u001b[0mi\u001b[0m\u001b[0;34m)\u001b[0m\u001b[0;34m\u001b[0m\u001b[0;34m\u001b[0m\u001b[0m\n\u001b[0m",
            "\u001b[0;31mTypeError\u001b[0m: 'str' object is not an iterator"
          ]
        }
      ],
      "source": [
        "next(i)"
      ]
    },
    {
      "cell_type": "markdown",
      "metadata": {
        "id": "QWcnLON9KyWo"
      },
      "source": [
        "This means that a string object supports iteration, but we can not directly iterate over it as we could with a generator function. The iter() function allows us to do just that!"
      ]
    },
    {
      "cell_type": "code",
      "execution_count": null,
      "metadata": {
        "id": "WDwJ7Y4LKyWp"
      },
      "outputs": [],
      "source": [
        "a_it=iter(i)"
      ]
    },
    {
      "cell_type": "code",
      "execution_count": null,
      "metadata": {
        "id": "AdaLpP1iKyWp",
        "colab": {
          "base_uri": "https://localhost:8080/",
          "height": 36
        },
        "outputId": "cc50b5fb-3b65-49b1-a950-e5dfeed10b79"
      },
      "outputs": [
        {
          "output_type": "execute_result",
          "data": {
            "text/plain": [
              "'o'"
            ],
            "application/vnd.google.colaboratory.intrinsic+json": {
              "type": "string"
            }
          },
          "metadata": {},
          "execution_count": 21
        }
      ],
      "source": [
        "next(iter(i))"
      ]
    },
    {
      "cell_type": "code",
      "execution_count": null,
      "metadata": {
        "id": "Q4aUr89sKyWq"
      },
      "outputs": [],
      "source": []
    },
    {
      "cell_type": "markdown",
      "metadata": {
        "id": "O308kVMxKyWq"
      },
      "source": [
        "# map()\n",
        "\n",
        "The map() is a function that takes in two arguments:\n",
        "1. A function\n",
        "2. A sequence iterable.\n",
        "\n",
        "In the form: map(function, sequence)\n",
        "    \n",
        "The first argument is the name of a function and the second a sequence (e.g. a list). map() applies the function to all the elements of the sequence. It returns a new list with the elements changed by the function.\n",
        "\n",
        "When we went over list comprehension we created a small expression to convert Fahrenheit to Celsius. Let's do the same here but use map.\n",
        "\n",
        "We'll start with two functions:"
      ]
    },
    {
      "cell_type": "code",
      "execution_count": null,
      "metadata": {
        "id": "CO79F7zwKyWr"
      },
      "outputs": [],
      "source": [
        "def f(t):\n",
        "  return((float(9)/5)*t+32)\n",
        "def c(t):\n",
        "  return(float(5)/9)*(t-32)\n",
        "temp=[0,22.5,40,100]\n"
      ]
    },
    {
      "cell_type": "markdown",
      "metadata": {
        "id": "WqUlgmkCKyWr"
      },
      "source": [
        "Now let's see map() in action:"
      ]
    },
    {
      "cell_type": "code",
      "execution_count": null,
      "metadata": {
        "id": "Hp2ZVgXxKyWs",
        "colab": {
          "base_uri": "https://localhost:8080/"
        },
        "outputId": "4c5a0f85-e5c2-4fa1-a9ab-74c4c43073b9"
      },
      "outputs": [
        {
          "output_type": "execute_result",
          "data": {
            "text/plain": [
              "[32.0, 72.5, 104.0, 212.0]"
            ]
          },
          "metadata": {},
          "execution_count": 26
        }
      ],
      "source": [
        "tt=list(map(f ,temp))\n",
        "#Show\n",
        "tt"
      ]
    },
    {
      "cell_type": "code",
      "execution_count": null,
      "metadata": {
        "id": "42C-JcWrKyWs",
        "colab": {
          "base_uri": "https://localhost:8080/"
        },
        "outputId": "02625aa9-54b5-4035-c708-e73757c13fc8"
      },
      "outputs": [
        {
          "output_type": "execute_result",
          "data": {
            "text/plain": [
              "[0.0, 22.5, 40.0, 100.0]"
            ]
          },
          "metadata": {},
          "execution_count": 27
        }
      ],
      "source": [
        "# Convert back\n",
        "list(map(c,tt))"
      ]
    },
    {
      "cell_type": "markdown",
      "metadata": {
        "id": "xqHEpanMKyWt"
      },
      "source": [
        "In the example above, we haven't used a lambda expression. By using lambda, it is not necessary to define and name fahrenheit() and celsius() functions."
      ]
    },
    {
      "cell_type": "code",
      "execution_count": null,
      "metadata": {
        "id": "opfQlGQ1KyWt",
        "colab": {
          "base_uri": "https://localhost:8080/"
        },
        "outputId": "1147fbed-89e7-4444-8ac4-6fe7501d0f34"
      },
      "outputs": [
        {
          "output_type": "execute_result",
          "data": {
            "text/plain": [
              "[0.0, 22.5, 40.0, 100.0]"
            ]
          },
          "metadata": {},
          "execution_count": 30
        }
      ],
      "source": [
        "list(map(lambda a:(5.0/9)*(a-32),tt))"
      ]
    },
    {
      "cell_type": "markdown",
      "metadata": {
        "id": "kUpoUEWKKyWu"
      },
      "source": [
        "Map is more commonly used with lambda expressions since the entire purpose of a map() is to save effort on creating manual for loops."
      ]
    },
    {
      "cell_type": "markdown",
      "metadata": {
        "id": "GAO9nWkkKyWu"
      },
      "source": [
        "map() can be applied to more than one iterable. The iterables must have the same length.\n",
        "\n",
        "For instance, if we are working with two lists-map() will apply its lambda function to the elements of the argument lists, i.e. it first applies to the elements with the 0th index, then to the elements with the 1st index until the nth index is reached.\n",
        "\n",
        "For example, let's map a lambda expression to two lists:"
      ]
    },
    {
      "cell_type": "code",
      "execution_count": null,
      "metadata": {
        "id": "y49rNd5uKyWv",
        "colab": {
          "base_uri": "https://localhost:8080/"
        },
        "outputId": "760a4c3a-35dc-4bf2-84cb-5e2071369e73"
      },
      "outputs": [
        {
          "output_type": "execute_result",
          "data": {
            "text/plain": [
              "[24, 424, 5]"
            ]
          },
          "metadata": {},
          "execution_count": 31
        }
      ],
      "source": [
        "a=[1,2,3]\n",
        "b=[23,422,2]\n",
        "c=[33,21,56]\n",
        "list(map(lambda x,y:x+y,a,b))"
      ]
    },
    {
      "cell_type": "code",
      "execution_count": null,
      "metadata": {
        "id": "wQJaiH70KyWw",
        "colab": {
          "base_uri": "https://localhost:8080/"
        },
        "outputId": "a2bd88dd-356e-4e87-859e-9f60fca481e1"
      },
      "outputs": [
        {
          "output_type": "execute_result",
          "data": {
            "text/plain": [
              "[57, 445, 61]"
            ]
          },
          "metadata": {},
          "execution_count": 32
        }
      ],
      "source": [
        "# Now all three lists\n",
        "list(map(lambda x,y,z:x+y+z,a,b,c))"
      ]
    },
    {
      "cell_type": "markdown",
      "metadata": {
        "id": "MLzr-TszKyWx"
      },
      "source": [
        "In the above example, the parameter 'x' gets its values from the list 'a', while 'y' gets its values from 'b' and 'z' from list 'c'. Go ahead and create your own example to make sure that you completely understand mapping more than one iterable."
      ]
    },
    {
      "cell_type": "markdown",
      "metadata": {
        "id": "5pCyPSa6KyWz"
      },
      "source": [
        "# reduce()\n",
        "\n",
        "The function reduce(function, sequence) continually applies the function to the sequence. It then returns a single value.\n",
        "\n",
        "If seq = [s1, s2, s3, ... , sn], calling reduce(function, sequence) works like this:\n",
        "\n",
        "* At first the first two elements of sequence will be applied to function, i.e. func(s1,s2)\n",
        "* The list on which reduce() works looks like this: [ function(s1, s2), s3, ... , sn ]\n",
        "* In the next step the function will be applied on the previous result and the third element of the list, i.e. function(function(s1, s2),s3)\n",
        "* The list looks like: [ function(function(s1, s2),s3), ... , sn ]\n",
        "* It continues like this until just one element is left and return this element as the result of reduce()\n",
        "\n",
        "Let's see an example:"
      ]
    },
    {
      "cell_type": "code",
      "execution_count": null,
      "metadata": {
        "id": "PmKRsMEoKyWz",
        "colab": {
          "base_uri": "https://localhost:8080/"
        },
        "outputId": "340e753b-7278-4a4e-fc9c-994174e08d54"
      },
      "outputs": [
        {
          "output_type": "execute_result",
          "data": {
            "text/plain": [
              "355"
            ]
          },
          "metadata": {},
          "execution_count": 35
        }
      ],
      "source": [
        "from functools import reduce\n",
        "l=[12,232,111]\n",
        "reduce(lambda x,y:x+y,l)"
      ]
    },
    {
      "cell_type": "markdown",
      "metadata": {
        "id": "STAR__2oKyW0"
      },
      "source": [
        "Let's look at a diagram to get a better understanding of what is going on here:"
      ]
    },
    {
      "cell_type": "code",
      "execution_count": null,
      "metadata": {
        "id": "W2cL7HdkKyW1"
      },
      "outputs": [],
      "source": []
    },
    {
      "cell_type": "markdown",
      "metadata": {
        "id": "Zyf7V1hoKyW1"
      },
      "source": [
        "Note how we keep reducing the sequence until a single final value is obtained. Let's see another example:"
      ]
    },
    {
      "cell_type": "code",
      "execution_count": null,
      "metadata": {
        "id": "hiIeCxDoKyW2"
      },
      "outputs": [],
      "source": [
        "#Find the maximum of a sequence (This already exists as max())\n"
      ]
    },
    {
      "cell_type": "code",
      "execution_count": null,
      "metadata": {
        "id": "5y6u-LqgKyW2"
      },
      "outputs": [],
      "source": [
        "#Find max\n"
      ]
    },
    {
      "cell_type": "markdown",
      "metadata": {
        "id": "45Nmrce9KyW3"
      },
      "source": [
        "# filter\n",
        "\n",
        "The function filter(function, list) offers a convenient way to filter out all the elements of an iterable, for which the function returns \"True\".\n",
        "\n",
        "The function filter(function(),l) needs a function as its first argument. The function needs to return a Boolean value (either True or False). This function will be applied to every element of the iterable. Only if the function returns \"True\" will the element of the iterable be included in the result.\n",
        "\n",
        "Let's see some examples:"
      ]
    },
    {
      "cell_type": "code",
      "execution_count": null,
      "metadata": {
        "id": "rBlvzClRKyW3"
      },
      "outputs": [],
      "source": [
        "#First let's make a function\n",
        "def numm(n):\n",
        "  if n%2==0:\n",
        "    return True"
      ]
    },
    {
      "cell_type": "markdown",
      "metadata": {
        "id": "ooqTXQPfKyW4"
      },
      "source": [
        "Now let's filter a list of numbers. Note that putting the function into filter without any parenthesis might feel strange, but keep in mind that functions are objects as well."
      ]
    },
    {
      "cell_type": "code",
      "execution_count": null,
      "metadata": {
        "id": "LD3b8P81KyW5"
      },
      "outputs": [],
      "source": [
        "lst=range(20)"
      ]
    },
    {
      "cell_type": "markdown",
      "metadata": {
        "id": "EmqjNT9QKyW5"
      },
      "source": [
        "filter() is more commonly used with lambda functions, this because we usually use filter for a quick job where we don't want to write an entire function. Let's repeat the example above using a lambda expression:"
      ]
    },
    {
      "cell_type": "code",
      "execution_count": null,
      "metadata": {
        "id": "kcqEQFc6KyW6",
        "colab": {
          "base_uri": "https://localhost:8080/"
        },
        "outputId": "c429d09e-8bed-42ec-d122-d90b1d035123"
      },
      "outputs": [
        {
          "output_type": "execute_result",
          "data": {
            "text/plain": [
              "[0, 2, 4, 6, 8, 10, 12, 14, 16, 18]"
            ]
          },
          "metadata": {},
          "execution_count": 40
        }
      ],
      "source": [
        "list(filter(numm,lst))"
      ]
    },
    {
      "cell_type": "code",
      "execution_count": null,
      "metadata": {
        "id": "RGI36U8OKyW6",
        "colab": {
          "base_uri": "https://localhost:8080/"
        },
        "outputId": "519f7762-b93e-4d18-f49a-b5b05b730cae"
      },
      "outputs": [
        {
          "output_type": "execute_result",
          "data": {
            "text/plain": [
              "[0, 2, 4, 6, 8, 10, 12, 14, 16, 18]"
            ]
          },
          "metadata": {},
          "execution_count": 44
        }
      ],
      "source": [
        "list(filter(lambda x:x%2==0,lst))"
      ]
    }
  ],
  "metadata": {
    "kernelspec": {
      "display_name": "Python 3",
      "language": "python",
      "name": "python3"
    },
    "language_info": {
      "codemirror_mode": {
        "name": "ipython",
        "version": 3
      },
      "file_extension": ".py",
      "mimetype": "text/x-python",
      "name": "python",
      "nbconvert_exporter": "python",
      "pygments_lexer": "ipython3",
      "version": "3.7.3"
    },
    "colab": {
      "provenance": [],
      "include_colab_link": true
    }
  },
  "nbformat": 4,
  "nbformat_minor": 0
}