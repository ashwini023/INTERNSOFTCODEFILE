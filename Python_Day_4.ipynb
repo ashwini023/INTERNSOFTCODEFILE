{
  "cells": [
    {
      "cell_type": "markdown",
      "metadata": {
        "id": "view-in-github",
        "colab_type": "text"
      },
      "source": [
        "<a href=\"https://colab.research.google.com/github/ashwini023/INTERNSOFTCODEFILE/blob/main/Python_Day_4.ipynb\" target=\"_parent\"><img src=\"https://colab.research.google.com/assets/colab-badge.svg\" alt=\"Open In Colab\"/></a>"
      ]
    },
    {
      "cell_type": "markdown",
      "metadata": {
        "id": "CWyMzg_H5j03"
      },
      "source": [
        "# Object Oriented Programming and File I/O"
      ]
    },
    {
      "cell_type": "markdown",
      "metadata": {
        "id": "u1HC12Cr5j1J"
      },
      "source": [
        "__Object Oriented Programming (OOP)__ is a programming paradigm that allows abstraction through the concept of interacting entities. This programming works contradictory to conventional model and is procedural, in which programs are organized as a sequence of commands or statements to perform.\n",
        "\n",
        "We can think an object as an entity that resides in memory, has a state and it's able to perform some actions.\n",
        "\n",
        "More formally objects are entities that represent **instances** of a general abstract concept called **class**. In `Python`, \"attributes\" are the variables defining an object state and the possible actions are called \"methods\".\n",
        "\n",
        "In Python, everything is an object also classes and functions."
      ]
    },
    {
      "cell_type": "markdown",
      "metadata": {
        "id": "bv6mGZP15j1M"
      },
      "source": [
        "## 1 How to define classes"
      ]
    },
    {
      "cell_type": "markdown",
      "metadata": {
        "id": "59ZKteUm5j1N"
      },
      "source": [
        "### 1.1 Creating a class"
      ]
    },
    {
      "cell_type": "markdown",
      "metadata": {
        "id": "CTzKCWY05j1O"
      },
      "source": [
        "Suppose we want to create a class, named Person, as a prototype, a sort of template for any number of 'Person' objects (instances)."
      ]
    },
    {
      "cell_type": "markdown",
      "metadata": {
        "id": "1dVVShot5j1P"
      },
      "source": [
        "The following python syntax defines a class:\n",
        "\n",
        "    class ClassName(base_classes):\n",
        "        statements\n",
        "\n",
        "        "
      ]
    },
    {
      "cell_type": "markdown",
      "metadata": {
        "id": "Rubc9AJg5j1Q"
      },
      "source": [
        "Class names should always be uppercase (it's a naming convention)."
      ]
    },
    {
      "cell_type": "markdown",
      "metadata": {
        "id": "ZJIA2LtU5j1R"
      },
      "source": [
        "Say we need to model a Person as:\n",
        "\n",
        "* Name\n",
        "* Surname  \n",
        "* Age  "
      ]
    },
    {
      "cell_type": "code",
      "execution_count": 3,
      "metadata": {
        "id": "9Plk-bHJ5j1S",
        "outputId": "0bc69a1a-7890-4cb9-bb84-db788dda346e",
        "colab": {
          "base_uri": "https://localhost:8080/"
        }
      },
      "outputs": [
        {
          "output_type": "stream",
          "name": "stdout",
          "text": [
            "<__main__.person object at 0x7bc274cd7d30>\n",
            "dude a age is32\n"
          ]
        }
      ],
      "source": [
        "class person:\n",
        "  pass\n",
        "qw=person()\n",
        "qw.name='dude'\n",
        "qw.surname='a'\n",
        "qw.age=32\n",
        "\n",
        "print(qw)\n",
        "print(f'{qw.name} {qw.surname} age is{qw.age}')\n"
      ]
    },
    {
      "cell_type": "markdown",
      "metadata": {
        "id": "FRJ7GwKE5j1U"
      },
      "source": [
        "The following example defines an empty class (i.e. the class doesn't have a state) called _Person_ then creates a _Person_ instance called _john_doe_ and adds three attributes to _john_doe_. We see that we can access objects attributes using the \"dot\" operator.\n",
        "\n",
        "This isn't a recommended style because classes should describe homogeneous entities. A way to do so is the following:"
      ]
    },
    {
      "cell_type": "code",
      "execution_count": 4,
      "metadata": {
        "id": "l9wVeU6S5j1V"
      },
      "outputs": [],
      "source": [
        "class person:\n",
        "  def __init__(self,name,surname,dob):\n",
        "    pass\n",
        "    self.name=name\n",
        "    self.surname=surname\n",
        "    self.dob=dob\n",
        ""
      ]
    },
    {
      "cell_type": "markdown",
      "metadata": {
        "id": "0nAkrzpN5j1V"
      },
      "source": [
        "    __init__(self, ...)\n",
        "Is a special _Python_ method that is automatically called after an object construction. Its purpose is to initialize every object state. The first argument (by convention) __self__ is automatically passed either and refers to the object itself.\n",
        "\n",
        "In the preceding example, `__init__` adds three attributes to every object that is instantiated. So the class is actually describing each object's state.\n"
      ]
    },
    {
      "cell_type": "markdown",
      "metadata": {
        "id": "zExWuHt55j1V"
      },
      "source": [
        "We cannot directly manipulate any class rather we need to create an instance of the class:"
      ]
    },
    {
      "cell_type": "code",
      "execution_count": 6,
      "metadata": {
        "id": "52kEOBv35j1W",
        "outputId": "bd0a4268-cb29-4acb-a230-f2a4397aea53",
        "colab": {
          "base_uri": "https://localhost:8080/"
        }
      },
      "outputs": [
        {
          "output_type": "stream",
          "name": "stdout",
          "text": [
            "<__main__.person object at 0x7bc274d200a0>\n",
            "qwerty a year is 1989\n"
          ]
        }
      ],
      "source": [
        "qqq=person('qwerty','a',1989)\n",
        "print(qqq)\n",
        "print(f'{qqq.name} {qqq.surname} year is {qqq.dob}')\n"
      ]
    },
    {
      "cell_type": "markdown",
      "metadata": {
        "id": "Geh6u3Gl5j1W"
      },
      "source": [
        "\n",
        "We have just created an instance of the Person class, bound to the variable `alec`."
      ]
    },
    {
      "cell_type": "markdown",
      "metadata": {
        "id": "2Zw33wGn5j1W"
      },
      "source": [
        "### 1.2 Methods"
      ]
    },
    {
      "cell_type": "code",
      "execution_count": 11,
      "metadata": {
        "id": "61jMepnC5j1X",
        "outputId": "8e05b5b4-61b7-4328-d5f1-4a0373ca3c1b",
        "colab": {
          "base_uri": "https://localhost:8080/"
        }
      },
      "outputs": [
        {
          "output_type": "stream",
          "name": "stdout",
          "text": [
            "qwerty a was born 1989.\n",
            "23\n"
          ]
        }
      ],
      "source": [
        "class person:\n",
        "  def __init__(self,name,surname,dob):\n",
        "    pass\n",
        "    self.name=name\n",
        "    self.surname=surname\n",
        "    self.dob=dob\n",
        "  def age(self,current_year):\n",
        "    return current_year-self.dob\n",
        "  def __str__(self):\n",
        "    return \"%s %s was born %s.\"%(self.name,self.surname,self.dob)\n",
        "\n",
        "qqq=person('qwerty','a',1989)\n",
        "print(qqq)\n",
        "print(qqq.age(2012))"
      ]
    },
    {
      "cell_type": "code",
      "execution_count": null,
      "metadata": {
        "id": "DKzSO2ns5j1X"
      },
      "outputs": [],
      "source": []
    },
    {
      "cell_type": "markdown",
      "metadata": {
        "id": "ds7p4A_85j1X"
      },
      "source": [
        "We defined two more methods `age` and  `__str__`. The latter is once again a special method that is called by Python when the object has to be represented as a string (e.g. when has to be printed). If the `__str__` method isn't defined the **print** command shows the type of object and its address in memory. We can see that in order to call a method we use the same syntax for attributes (**instance_name.instance _method**)."
      ]
    },
    {
      "cell_type": "markdown",
      "metadata": {
        "id": "ZIlB4Utl5j1Y"
      },
      "source": [
        "## 2 Inheritance"
      ]
    },
    {
      "cell_type": "markdown",
      "metadata": {
        "id": "JqfzxJIb5j1Y"
      },
      "source": [
        "Once a class is defined it models a concept. It is useful to extend a class behavior to model a less general concept. Say we need to model a Student, but we know that every student is also a Person so we shouldn't model the Person again but inherit from it instead."
      ]
    },
    {
      "cell_type": "code",
      "execution_count": 14,
      "metadata": {
        "id": "UPe5wt2g5j1Y",
        "outputId": "38ab359e-51fc-4eb6-af4a-47c923c46cc8",
        "colab": {
          "base_uri": "https://localhost:8080/"
        }
      },
      "outputs": [
        {
          "output_type": "stream",
          "name": "stdout",
          "text": [
            "zxc sdfgf was born 1998.\n"
          ]
        }
      ],
      "source": [
        "class student(person):\n",
        "  def __init__(self,student_id, *args,**kwagrs):\n",
        "    super(student,self).__init__(*args,**kwagrs)\n",
        "    self.student_id=student_id\n",
        "\n",
        "qwer=student(1,'zxc','sdfgf',1998)\n",
        "print(qwer)"
      ]
    },
    {
      "cell_type": "markdown",
      "metadata": {
        "id": "Qbq8E3nH5j1Z"
      },
      "source": [
        "Charlie now has the same behavior of a Person, but his state has also a student ID. A Person is one of the base classes of Student and Student is one of the sub classes of Person. Be aware that a subclass knows about its superclasses but the converse isn't true.\n",
        "\n",
        "A sub class doesn't only inherits from its base classes, but from its base classes too, forming an inheritance tree that starts from a object (every class base class).\n",
        "\n",
        "    super(Class, instance)\n",
        "    \n",
        "is a function that returns a proxy-object that delegates method calls to a parent or sibling class of type.\n",
        "So we used it to access Person's `__init__`."
      ]
    },
    {
      "cell_type": "markdown",
      "metadata": {
        "id": "-gKbj7Ee5j1Z"
      },
      "source": [
        "### 2.1 Overriding methods"
      ]
    },
    {
      "cell_type": "markdown",
      "metadata": {
        "id": "ixe3dWJK5j1Z"
      },
      "source": [
        "Inheritance allows to add new methods to a subclass but often is useful to change the behavior of a method defined in the superclass. To override a method just define it again."
      ]
    },
    {
      "cell_type": "code",
      "execution_count": 15,
      "metadata": {
        "id": "2z7qLJG35j1a",
        "outputId": "10911886-4062-49bb-ad8e-181cad45411b",
        "colab": {
          "base_uri": "https://localhost:8080/"
        }
      },
      "outputs": [
        {
          "output_type": "stream",
          "name": "stdout",
          "text": [
            "zxc sdfgf was born 1998.and id:1\n"
          ]
        }
      ],
      "source": [
        "class student(person):\n",
        "  def __init__(self,student_id, *args,**kwagrs):\n",
        "    super(student,self).__init__(*args,**kwagrs)\n",
        "    self.student_id=student_id\n",
        "\n",
        "  def __str__(self):\n",
        "    return super(student,self).__str__()+\"and id:%d\"%self.student_id\n",
        "\n",
        "qwer=student(1,'zxc','sdfgf',1998)\n",
        "print(qwer)"
      ]
    },
    {
      "cell_type": "markdown",
      "metadata": {
        "id": "h-oQA9gL5j1a"
      },
      "source": [
        "We defined `__str__` again overriding the one wrote in Person, but we wanted to extend it, so we used super to achieve our goal."
      ]
    },
    {
      "cell_type": "markdown",
      "metadata": {
        "id": "4ZxbZFaT5j1a"
      },
      "source": [
        "## 3 Encapsulation"
      ]
    },
    {
      "cell_type": "markdown",
      "metadata": {
        "id": "Ab4TsWhz5j1a"
      },
      "source": [
        "Encapsulation is an another powerful way to extend a class which consists on wrapping an object with a second one.\n",
        "There are two main reasons to use encapsulation:\n",
        "* Composition\n",
        "* Dynamic Extension\n"
      ]
    },
    {
      "cell_type": "markdown",
      "metadata": {
        "id": "HL08Uni35j1b"
      },
      "source": [
        "### 3.1 Composition"
      ]
    },
    {
      "cell_type": "markdown",
      "metadata": {
        "id": "sQVG4C-Y5j1b"
      },
      "source": [
        "The abstraction process relies on creating a simplified model that remove useless details from a concept. In order to be simplified, a model should be described in terms of other simpler concepts.\n",
        "For example, we can say that a car is composed by:\n",
        "* Tyres\n",
        "* Engine\n",
        "* Body\n",
        "\n",
        "And break down each one of these elements in simpler parts until we reach primitive data."
      ]
    },
    {
      "cell_type": "markdown",
      "metadata": {
        "id": "aZjmF8IR5j1b"
      },
      "source": [
        "## 4 Polymorphism and DuckTyping"
      ]
    },
    {
      "cell_type": "markdown",
      "metadata": {
        "id": "E9auYAZt5j1b"
      },
      "source": [
        "`Python` uses dynamic typing which is also called as duck typing. If an object implements a method you can use it, irrespective of the type. This is different from statically typed languages, where the type of a construct need to be explicitly declared. Polymorphism is the ability to use the same syntax for objects of different types:"
      ]
    },
    {
      "cell_type": "code",
      "execution_count": 18,
      "metadata": {
        "id": "M-WODCqt5j1b",
        "outputId": "fda5dc0b-bbac-4df7-ef60-3e671412db94",
        "colab": {
          "base_uri": "https://localhost:8080/"
        }
      },
      "outputs": [
        {
          "output_type": "stream",
          "name": "stdout",
          "text": [
            "3\n"
          ]
        }
      ],
      "source": [
        "def sum(a,b):\n",
        "  return a+b\n",
        "\n",
        "print(sum(1,2))"
      ]
    },
    {
      "cell_type": "markdown",
      "metadata": {
        "id": "hzEAfS_G5j1c"
      },
      "source": [
        "## 5 How long does a class should be?"
      ]
    },
    {
      "cell_type": "markdown",
      "metadata": {
        "id": "1fmw69Nz5j1c"
      },
      "source": [
        "There is an Object Oriented Programming (OOP) principle called Single Responsibility Principle (SRP) and it states: \"A class should have one single responsibility\" or \"A class should have only one reason to change\".\n",
        "\n",
        "If you come across a class which doesn't follow the SRP principle, you should spilt it. You will be grateful to SRP during your software maintenance."
      ]
    },
    {
      "cell_type": "markdown",
      "metadata": {
        "id": "G5SgF7Xo5j1c"
      },
      "source": [
        "# Files\n",
        "\n",
        "Python uses file objects to interact with the external files on your computer. These file objects cab be of any file format on your computer i.e. can be an audio file, a text file, emails, Excel documents, etc. Note that You will probably need to install certain libraries or modules to interact with those various file types, but they are easily available. (We will cover downloading modules later on in the course).\n",
        "\n",
        "Python has a built-in open function that allows us to open and play with basic file types. First we will need a file though. We're going to use some iPython magic to create a text file!\n",
        "\n",
        "## iPython Writing a File"
      ]
    },
    {
      "cell_type": "code",
      "execution_count": null,
      "metadata": {
        "id": "OJZdegzs5j1c"
      },
      "outputs": [],
      "source": []
    },
    {
      "cell_type": "markdown",
      "metadata": {
        "id": "fHz2AL6I5j1c"
      },
      "source": [
        "## Python Opening a file\n",
        "\n",
        "We can open a file with the open() function. This function also takes in arguments (also called parameters). Let's see how this is used:"
      ]
    },
    {
      "cell_type": "code",
      "execution_count": null,
      "metadata": {
        "id": "uorIgxVn5j1p"
      },
      "outputs": [],
      "source": [
        "# Open the text.txt we made earlier\n"
      ]
    },
    {
      "cell_type": "code",
      "execution_count": null,
      "metadata": {
        "id": "saauSgHO5j1q"
      },
      "outputs": [],
      "source": [
        "# We can now read the file\n"
      ]
    },
    {
      "cell_type": "code",
      "execution_count": null,
      "metadata": {
        "id": "6GtSZhTR5j1q"
      },
      "outputs": [],
      "source": [
        "# But what happens if we try to read it again?\n"
      ]
    },
    {
      "cell_type": "markdown",
      "metadata": {
        "id": "f-8Ul_565j1q"
      },
      "source": [
        "This happens because you can imagine the reading \"cursor\" is at the end of the file after having read it. So there is nothing left to read. We can reset the \"cursor\" like this:"
      ]
    },
    {
      "cell_type": "code",
      "execution_count": null,
      "metadata": {
        "id": "5YT8WP_s5j1q"
      },
      "outputs": [],
      "source": [
        "# Seek to the start of file (index 0)\n"
      ]
    },
    {
      "cell_type": "code",
      "execution_count": null,
      "metadata": {
        "id": "RPcKJazX5j1r"
      },
      "outputs": [],
      "source": [
        "# Now read again\n"
      ]
    },
    {
      "cell_type": "markdown",
      "metadata": {
        "id": "RtlAuQTE5j1r"
      },
      "source": [
        "In order to not have to reset every time, we can also use the readlines method. Use caution with large files, since everything will be held in memory. We will learn how to iterate over large files later in the course."
      ]
    },
    {
      "cell_type": "code",
      "execution_count": null,
      "metadata": {
        "id": "XeocBi1t5j1r"
      },
      "outputs": [],
      "source": [
        "# Seek to the start of file (index 0)\n"
      ]
    },
    {
      "cell_type": "code",
      "execution_count": null,
      "metadata": {
        "id": "YEwWLb0i5j1r"
      },
      "outputs": [],
      "source": [
        "# Readlines returns a list of the lines in the file.\n"
      ]
    },
    {
      "cell_type": "markdown",
      "metadata": {
        "id": "4RsdVnIy5j1r"
      },
      "source": [
        "## Writing to a File\n",
        "\n",
        "By default, using the open() function will only allow us to read the file, we need to pass the argument 'w' to write over the file. For example:"
      ]
    },
    {
      "cell_type": "code",
      "execution_count": null,
      "metadata": {
        "id": "kK4z3FvX5j1s"
      },
      "outputs": [],
      "source": [
        "# Add the second argument to the function, 'w' which stands for write\n"
      ]
    },
    {
      "cell_type": "code",
      "execution_count": null,
      "metadata": {
        "id": "pj4Du2uT5j1s"
      },
      "outputs": [],
      "source": [
        "# Write to the file\n"
      ]
    },
    {
      "cell_type": "code",
      "execution_count": null,
      "metadata": {
        "id": "OrEiYPxM5j1s"
      },
      "outputs": [],
      "source": [
        "# Seek to the start of file (index 0)\n"
      ]
    },
    {
      "cell_type": "code",
      "execution_count": null,
      "metadata": {
        "id": "FD7KS0UG5j1s"
      },
      "outputs": [],
      "source": [
        "# Read the file\n"
      ]
    },
    {
      "cell_type": "markdown",
      "metadata": {
        "id": "ghQ6f2JK5j1s"
      },
      "source": [
        "## Iterating through a File\n",
        "\n",
        "Let's get a quick preview of a for loop by iterating over a text file. First, let's make a new text file with some iPython Magic:"
      ]
    },
    {
      "cell_type": "code",
      "execution_count": null,
      "metadata": {
        "id": "b2m_8yle5j1t"
      },
      "outputs": [],
      "source": []
    },
    {
      "cell_type": "markdown",
      "metadata": {
        "id": "vvPrCRCA5j1t"
      },
      "source": [
        "Now we can use a little bit of flow to tell the program to for through every line of the file and do something:"
      ]
    },
    {
      "cell_type": "code",
      "execution_count": null,
      "metadata": {
        "id": "cYZ-uLwB5j1t"
      },
      "outputs": [],
      "source": []
    },
    {
      "cell_type": "code",
      "execution_count": null,
      "metadata": {
        "id": "P8TrikBb5j1t"
      },
      "outputs": [],
      "source": [
        "# Pertaining to the first point above\n"
      ]
    },
    {
      "cell_type": "markdown",
      "metadata": {
        "id": "Th0uEbfk5j1t"
      },
      "source": [
        "# StringIO\n",
        "\n",
        "The StringIO module implements an in-memory filelike object. This object can then be used as input or output to most functions that would expect a standard file object.\n",
        "\n",
        "The best way to show this is by example:"
      ]
    },
    {
      "cell_type": "code",
      "execution_count": null,
      "metadata": {
        "id": "kpWjpbGA5j1u"
      },
      "outputs": [],
      "source": []
    },
    {
      "cell_type": "code",
      "execution_count": null,
      "metadata": {
        "id": "DelWksAV5j1u"
      },
      "outputs": [],
      "source": [
        "# Arbitrary String\n"
      ]
    },
    {
      "cell_type": "code",
      "execution_count": null,
      "metadata": {
        "id": "PuHvJNwP5j1u"
      },
      "outputs": [],
      "source": [
        "# Use StringIO method to set as file object\n"
      ]
    },
    {
      "cell_type": "markdown",
      "metadata": {
        "id": "06WmjnEk5j1v"
      },
      "source": [
        "Now we have an object *f* that we will be able to treat just like a file. For example:"
      ]
    },
    {
      "cell_type": "code",
      "execution_count": null,
      "metadata": {
        "id": "tUnwzjef5j1v"
      },
      "outputs": [],
      "source": []
    },
    {
      "cell_type": "markdown",
      "metadata": {
        "id": "X1bLx6CC5j1w"
      },
      "source": [
        "We can also write to it"
      ]
    },
    {
      "cell_type": "code",
      "execution_count": null,
      "metadata": {
        "id": "1madNPGV5j1w"
      },
      "outputs": [],
      "source": []
    },
    {
      "cell_type": "code",
      "execution_count": null,
      "metadata": {
        "id": "Kvl0LReA5j1w"
      },
      "outputs": [],
      "source": [
        "# Reset cursor just like you would a file\n"
      ]
    },
    {
      "cell_type": "code",
      "execution_count": null,
      "metadata": {
        "id": "Qm0-1rz25j1w"
      },
      "outputs": [],
      "source": [
        "# Read again\n"
      ]
    },
    {
      "cell_type": "code",
      "execution_count": null,
      "metadata": {
        "id": "dGXf6A8R5j1w"
      },
      "outputs": [],
      "source": []
    }
  ],
  "metadata": {
    "kernelspec": {
      "display_name": "Python 3",
      "language": "python",
      "name": "python3"
    },
    "language_info": {
      "codemirror_mode": {
        "name": "ipython",
        "version": 3
      },
      "file_extension": ".py",
      "mimetype": "text/x-python",
      "name": "python",
      "nbconvert_exporter": "python",
      "pygments_lexer": "ipython3",
      "version": "3.7.3"
    },
    "colab": {
      "provenance": [],
      "include_colab_link": true
    }
  },
  "nbformat": 4,
  "nbformat_minor": 0
}